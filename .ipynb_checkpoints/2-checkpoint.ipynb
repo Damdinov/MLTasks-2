{
 "cells": [
  {
   "cell_type": "markdown",
   "metadata": {},
   "source": [
    "# Задание 1.\n",
    "В датасете 4601 писем. Из них около 40% плохие. Группы признаков: частоты символов и слов, длины заглавных символов."
   ]
  },
  {
   "cell_type": "code",
   "execution_count": 1,
   "metadata": {
    "collapsed": false,
    "scrolled": true
   },
   "outputs": [
    {
     "name": "stdout",
     "output_type": "stream",
     "text": [
      "Populating the interactive namespace from numpy and matplotlib\n",
      "Total amount: 4601\n",
      "Spam part: 0.394045\n"
     ]
    }
   ],
   "source": [
    "%pylab inline\n",
    "\n",
    "import pandas\n",
    "import urllib2\n",
    "\n",
    "SPAMBASE_NAMES_URL = 'https://archive.ics.uci.edu/ml/machine-learning-databases/spambase/spambase.names'\n",
    "SPAMBASE_DATA_URL = 'https://archive.ics.uci.edu/ml/machine-learning-databases/spambase/spambase.data'\n",
    "\n",
    "feature_names = [\n",
    "    line.strip().split(':')[0] \n",
    "    for line in urllib2.urlopen(SPAMBASE_NAMES_URL).readlines()[33:]\n",
    "]\n",
    "spam_data = pandas.read_csv(SPAMBASE_DATA_URL, header=None, names=(feature_names + ['spam']))\n",
    " \n",
    "X, y = spam_data.ix[:, :-1].values, spam_data.ix[:, -1].values\n",
    "\n",
    "numberOfMails = len(spam_data)\n",
    "\n",
    "print 'Total amount: %i'%(numberOfMails)\n",
    "numberOfSpam = sum( spam_data.ix[i, :]['spam'] for i in xrange(numberOfMails) )\n",
    "print 'Spam part: %f'%(numberOfSpam/numberOfMails)"
   ]
  },
  {
   "cell_type": "markdown",
   "metadata": {},
   "source": [
    "# Задание 2."
   ]
  },
  {
   "cell_type": "code",
   "execution_count": 2,
   "metadata": {
    "collapsed": false,
    "scrolled": true
   },
   "outputs": [
    {
     "name": "stdout",
     "output_type": "stream",
     "text": [
      "(array([ 1.,  0.]), array([ 0.77076827,  0.        ]), array([ 0.87054674,  0.        ]), array([1601,    0], dtype=int64))\n"
     ]
    },
    {
     "name": "stderr",
     "output_type": "stream",
     "text": [
      "C:\\Users\\damdi\\Anaconda3\\envs\\py27\\lib\\site-packages\\sklearn\\metrics\\classification.py:960: UndefinedMetricWarning: Recall and F-score are ill-defined and being set to 0.0 in labels with no true samples.\n",
      "  'recall', 'true', average, warn_for)\n"
     ]
    }
   ],
   "source": [
    "from sklearn.tree import DecisionTreeClassifier\n",
    "import sklearn.metrics as metrics\n",
    "\n",
    "trainX = spam_data.ix[:3000, :-1]\n",
    "testX = spam_data.ix[3000:, :-1]\n",
    "trainY = spam_data.ix[:3000, -1]\n",
    "testY = spam_data.ix[3000:, -1]\n",
    "\n",
    "clf = DecisionTreeClassifier(max_depth=7, criterion='gini').fit(trainX, trainY)\n",
    "\n",
    "y_pred = clf.predict(testX)\n",
    "\n",
    "#print metrics.accuracy_score(testY, y_pred) #accuracy classification score\n",
    "print metrics.precision_recall_fscore_support(testY, y_pred); #precision, recall, F-measure and support for each class\n",
    "#print metrics.roc_curve(testY, y_score) #Receiver operating characteristic (ROC)\n",
    "#print metrics.precision_recall_curve(testY, y_score) #precision-recall pairs for different probability thresholds\n",
    "#print metrics.roc_auc_score(testY, y_score) #Area Under the Curve (AUC) from prediction scores"
   ]
  },
  {
   "cell_type": "markdown",
   "metadata": {},
   "source": [
    "Такая оценка качества не очень информативна, для любой из них можно придумать контпримеры. Следующие критерии более информативны:  энтропийный критерии прироста информации, критерий Джини, точный статистический тест Фишера, критерий бустинга, нормированный критерий бустинга.\n",
    "Смотрел на данные, оказалось, что в обучающую попал спам, а в тест - не спам, поэтому данные сначала нужно перемешать. Перемешаем и повторим:"
   ]
  },
  {
   "cell_type": "code",
   "execution_count": 3,
   "metadata": {
    "collapsed": false
   },
   "outputs": [
    {
     "name": "stdout",
     "output_type": "stream",
     "text": [
      "(array([ 0.91514501,  0.91156463]), array([ 0.94247788,  0.87154472]), array([ 0.92861035,  0.89110557]), array([904, 615], dtype=int64))\n"
     ]
    }
   ],
   "source": [
    "from sklearn.cross_validation import train_test_split\n",
    "trainX, testX, trainY, testY = train_test_split(X, y, test_size=0.33, random_state=0)\n",
    "\n",
    "\n",
    "dtclf = DecisionTreeClassifier(max_depth=7, criterion='gini').fit(trainX, trainY)\n",
    "y_pred = dtclf.predict(testX)\n",
    "\n",
    "print metrics.precision_recall_fscore_support(testY, y_pred)"
   ]
  },
  {
   "cell_type": "markdown",
   "metadata": {},
   "source": [
    "Уже намного лучше. Видно, что в тест и обучающую выборки попали письма обоих типов.\n",
    "Посмотрим на константную модель:"
   ]
  },
  {
   "cell_type": "code",
   "execution_count": 4,
   "metadata": {
    "collapsed": false
   },
   "outputs": [
    {
     "name": "stdout",
     "output_type": "stream",
     "text": [
      "(array([ 0.58064516,  0.3820034 ]), array([ 0.59734513,  0.36585366]), array([ 0.58887677,  0.37375415]), array([904, 615], dtype=int64))\n"
     ]
    }
   ],
   "source": [
    "from sklearn.cross_validation import train_test_split\n",
    "trainX, testX, trainY, testY = train_test_split(X, y, test_size=0.33, random_state=0)\n",
    "\n",
    "from sklearn.dummy import DummyClassifier\n",
    "dclf = DummyClassifier().fit(trainX, trainY)\n",
    "y_pred = dclf.predict(testX)\n",
    "\n",
    "print metrics.precision_recall_fscore_support(testY, y_pred)"
   ]
  },
  {
   "cell_type": "markdown",
   "metadata": {},
   "source": [
    "Константная модель дает очень плохое качество."
   ]
  },
  {
   "cell_type": "markdown",
   "metadata": {},
   "source": [
    "#### Наиболее важным признаком оказаллась частота символов"
   ]
  },
  {
   "cell_type": "code",
   "execution_count": 5,
   "metadata": {
    "collapsed": false
   },
   "outputs": [
    {
     "name": "stdout",
     "output_type": "stream",
     "text": [
      "51 char_freq_!, importance = 0.41\n",
      "6 word_freq_remove, importance = 0.13\n",
      "54 capital_run_length_average, importance = 0.12\n"
     ]
    }
   ],
   "source": [
    "most_important_features = argsort(dtclf.feature_importances_)[::-1]\n",
    "for idx in most_important_features[:3]:\n",
    "    print '%d %s, importance = %.2f' % (idx, feature_names[idx], dtclf.feature_importances_[idx])\n",
    "    \n",
    "xind, yind = most_important_features[0], most_important_features[1]\n"
   ]
  },
  {
   "cell_type": "code",
   "execution_count": 6,
   "metadata": {
    "collapsed": false
   },
   "outputs": [
    {
     "name": "stdout",
     "output_type": "stream",
     "text": [
      "(array([ 0.77020448,  0.7703252 ]), array([ 0.875     ,  0.61626016]), array([ 0.81926463,  0.68473351]), array([904, 615], dtype=int64))\n"
     ]
    }
   ],
   "source": [
    "from sklearn.cross_validation import train_test_split\n",
    "trainX, testX, trainY, testY = train_test_split(X, y, test_size=0.33, random_state=0)\n",
    "\n",
    "from sklearn.neighbors import KNeighborsClassifier\n",
    "\n",
    "neigh = KNeighborsClassifier(n_neighbors=10)\n",
    "neigh.fit(trainX, trainY) \n",
    "y_pred = neigh.predict(testX)\n",
    "\n",
    "print metrics.precision_recall_fscore_support(testY, y_pred)"
   ]
  },
  {
   "cell_type": "markdown",
   "metadata": {
    "collapsed": true
   },
   "source": [
    "Результат лучше, чем у константной модели, но заметно хуже, чем у дерева. Нормализуем и попробуем еще раз:"
   ]
  },
  {
   "cell_type": "code",
   "execution_count": 7,
   "metadata": {
    "collapsed": false
   },
   "outputs": [
    {
     "name": "stdout",
     "output_type": "stream",
     "text": [
      "(array([ 0.8604888 ,  0.89013035]), array([ 0.93473451,  0.77723577]), array([ 0.89607635,  0.82986111]), array([904, 615], dtype=int64))\n"
     ]
    },
    {
     "name": "stderr",
     "output_type": "stream",
     "text": [
      "C:\\Users\\damdi\\Anaconda3\\envs\\py27\\lib\\site-packages\\sklearn\\utils\\validation.py:498: UserWarning: MinMaxScaler assumes floating point values as input, got int64\n",
      "  \"got %s\" % (estimator, X.dtype))\n"
     ]
    }
   ],
   "source": [
    "from sklearn.preprocessing import MinMaxScaler\n",
    "X_scaled = MinMaxScaler().fit_transform(X)\n",
    "Y_scaled = MinMaxScaler().fit_transform(y)\n",
    "\n",
    "\n",
    "from sklearn.cross_validation import train_test_split\n",
    "trainX, testX, trainY, testY = train_test_split(X_scaled, Y_scaled, test_size=0.33, random_state=0)\n",
    "\n",
    "from sklearn.neighbors import KNeighborsClassifier\n",
    "\n",
    "neigh2 = KNeighborsClassifier(n_neighbors=10)\n",
    "neigh2.fit(trainX, trainY) \n",
    "y_pred = neigh2.predict(testX)\n",
    "\n",
    "print metrics.precision_recall_fscore_support(testY, y_pred)"
   ]
  },
  {
   "cell_type": "markdown",
   "metadata": {},
   "source": [
    "Результат заметно улучшился, уже сравним с деревом."
   ]
  },
  {
   "cell_type": "code",
   "execution_count": 8,
   "metadata": {
    "collapsed": false
   },
   "outputs": [
    {
     "name": "stdout",
     "output_type": "stream",
     "text": [
      "(array([ 0.9175705 ,  0.90284757]), array([ 0.93584071,  0.87642276]), array([ 0.92661555,  0.88943894]), array([904, 615], dtype=int64))\n"
     ]
    }
   ],
   "source": [
    "from sklearn.preprocessing import MinMaxScaler\n",
    "X_scaled = MinMaxScaler().fit_transform(X)\n",
    "Y_scaled = MinMaxScaler().fit_transform(y)\n",
    "\n",
    "from sklearn.cross_validation import train_test_split\n",
    "trainX, testX, trainY, testY = train_test_split(X_scaled, Y_scaled, test_size=0.33, random_state=0)\n",
    "\n",
    "dtclf = DecisionTreeClassifier(max_depth=7, criterion='gini').fit(trainX, trainY)\n",
    "y_pred = dtclf.predict(testX)\n",
    "\n",
    "print metrics.precision_recall_fscore_support(testY, y_pred)"
   ]
  },
  {
   "cell_type": "markdown",
   "metadata": {},
   "source": [
    "Для дерева ничего не поменялось."
   ]
  },
  {
   "cell_type": "markdown",
   "metadata": {},
   "source": [
    "KNN norm\n",
    "precision: 0.8604888 ,  0.89013035\n",
    "recall:    0.93473451,  0.77723577\n",
    "F-measure: 0.89607635,  0.82986111\n",
    "\n",
    "KNN\n",
    "precision: 0.77020448,  0.7703252\n",
    "recall:    0.875     ,  0.61626016\n",
    "F-measure: 0.81926463,  0.68473351\n",
    "\n",
    "DT norm\n",
    "precision: 0.91201717,  0.90800681\n",
    "recall:    0.94026549,  0.86666667\n",
    "F-measure: 0.92592593,  0.88685524\n",
    "\n",
    "DT norm\n",
    "precision: 0.91576674,  0.90556492\n",
    "recall:    0.92677596,  0.88907285\n",
    "F-measure: 0.9380531 ,  0.87317073"
   ]
  },
  {
   "cell_type": "markdown",
   "metadata": {},
   "source": [
    "### Задание 3.\n",
    "Какой классификатор имеет AUC-ROC близкий к 0?"
   ]
  },
  {
   "cell_type": "code",
   "execution_count": 9,
   "metadata": {
    "collapsed": false
   },
   "outputs": [
    {
     "name": "stdout",
     "output_type": "stream",
     "text": [
      "(array([ 0.91549296,  0.90100671]), array([ 0.93473451,  0.87317073]), array([ 0.92501368,  0.88687036]), array([904, 615], dtype=int64))\n"
     ]
    },
    {
     "data": {
      "text/plain": [
       "<matplotlib.legend.Legend at 0x18a87208>"
      ]
     },
     "execution_count": 9,
     "metadata": {},
     "output_type": "execute_result"
    },
    {
     "data": {
      "image/png": "[encoded data removed]",
      "text/plain": [
       "<matplotlib.figure.Figure at 0x18910160>"
      ]
     },
     "metadata": {},
     "output_type": "display_data"
    }
   ],
   "source": [
    "import numpy as np\n",
    "import pylab as pl\n",
    "from sklearn import svm, datasets,metrics\n",
    "from sklearn.utils import shuffle\n",
    "from sklearn.metrics import roc_curve, auc, precision_recall_curve\n",
    "\n",
    "from sklearn.cross_validation import train_test_split\n",
    "trainX, testX, trainY, testY = train_test_split(X, y, test_size=0.33, random_state=0)\n",
    "\n",
    "\n",
    "dtclf = DecisionTreeClassifier(max_depth=7, criterion='gini').fit(trainX, trainY)\n",
    "y_pred = dtclf.predict(testX)\n",
    "\n",
    "print metrics.precision_recall_fscore_support(testY, y_pred)\n",
    "\n",
    "probas_dtclf = dtclf.predict_proba(testX)\n",
    "fpr, tpr, thresholds = roc_curve(testY, probas_dtclf[:, 1])\n",
    "roc_auc = auc(fpr, tpr)\n",
    "precision, recall, thresholds = precision_recall_curve(testY, probas_dtclf[:, 1])\n",
    "\n",
    "pl.clf()\n",
    "pl.xlim([0, 1])\n",
    "pl.ylim([0, 1])\n",
    "pl.plot(fpr, tpr, label='ROC for Decision Tree, roc_auc = %0.2f' % roc_auc)\n",
    "pl.plot(precision, recall, label = 'Precision/Recall for Decision Tree')\n",
    "pl.plot([0, 1], [0, 1], 'k--')\n",
    "pl.xlabel('False Positive Rate')\n",
    "pl.ylabel('True Positive Rate')\n",
    "pl.title('Receiver operating characteristic decision tree')\n",
    "pl.legend(loc=\"lower right\")"
   ]
  },
  {
   "cell_type": "code",
   "execution_count": 10,
   "metadata": {
    "collapsed": false
   },
   "outputs": [
    {
     "data": {
      "text/plain": [
       "<matplotlib.legend.Legend at 0x18b13f28>"
      ]
     },
     "execution_count": 10,
     "metadata": {},
     "output_type": "execute_result"
    },
    {
     "data": {
      "image/png": "[encoded data removed]",
      "text/plain": [
       "<matplotlib.figure.Figure at 0xc1099e8>"
      ]
     },
     "metadata": {},
     "output_type": "display_data"
    }
   ],
   "source": [
    "from sklearn.cross_validation import train_test_split\n",
    "trainX, testX, trainY, testY = train_test_split(X, y, test_size=0.33, random_state=0)\n",
    "\n",
    "from sklearn.neighbors import KNeighborsClassifier\n",
    "\n",
    "neigh = KNeighborsClassifier(n_neighbors=10)\n",
    "neigh.fit(trainX, trainY) \n",
    "y_pred = neigh.predict(testX)\n",
    "\n",
    "probas_knnclf = neigh.predict_proba(testX)\n",
    "fpr, tpr, thresholds = roc_curve(testY, probas_knnclf[:, 1])\n",
    "roc_auc = auc(fpr, tpr)\n",
    "precision, recall, thresholds = precision_recall_curve(testY, probas_knnclf[:, 1])\n",
    "pr_auc = auc(precision, recall)\n",
    "\n",
    "pl.clf()\n",
    "pl.xlim([0, 1])\n",
    "pl.ylim([0, 1])\n",
    "pl.plot(fpr, tpr, label='ROC for kNN, roc_auc = %0.2f' % roc_auc)\n",
    "pl.plot(precision, recall, label = 'Precision/Recall for kNN')\n",
    "pl.plot([0, 1], [0, 1], 'k--')\n",
    "pl.xlabel('False Positive Rate')\n",
    "pl.ylabel('True Positive Rate')\n",
    "pl.title('Receiver operating characteristic kNN')\n",
    "pl.legend(loc=\"lower right\")"
   ]
  },
  {
   "cell_type": "code",
   "execution_count": 11,
   "metadata": {
    "collapsed": false
   },
   "outputs": [
    {
     "data": {
      "text/plain": [
       "<matplotlib.legend.Legend at 0x1904ccf8>"
      ]
     },
     "execution_count": 11,
     "metadata": {},
     "output_type": "execute_result"
    },
    {
     "data": {
      "image/png": "[encoded data removed]",
      "text/plain": [
       "<matplotlib.figure.Figure at 0x18d590f0>"
      ]
     },
     "metadata": {},
     "output_type": "display_data"
    }
   ],
   "source": [
    "from sklearn.preprocessing import MinMaxScaler\n",
    "X_scaled = MinMaxScaler().fit_transform(X)\n",
    "Y_scaled = MinMaxScaler().fit_transform(y)\n",
    "\n",
    "\n",
    "from sklearn.cross_validation import train_test_split\n",
    "trainX, testX, trainY, testY = train_test_split(X_scaled, Y_scaled, test_size=0.33, random_state=0)\n",
    "\n",
    "from sklearn.neighbors import KNeighborsClassifier\n",
    "\n",
    "neigh2 = KNeighborsClassifier(n_neighbors=10)\n",
    "neigh2.fit(trainX, trainY) \n",
    "y_pred = neigh2.predict(testX)\n",
    "\n",
    "probas_knnclf = neigh2.predict_proba(testX)\n",
    "fpr, tpr, thresholds = roc_curve(testY, probas_knnclf[:, 1])\n",
    "roc_auc = auc(fpr, tpr)\n",
    "precision, recall, thresholds = precision_recall_curve(testY, probas_knnclf[:, 1])\n",
    "pr_auc = auc(precision, recall)\n",
    "\n",
    "# Plot ROC curve\n",
    "pl.clf()\n",
    "pl.xlim([0, 1])\n",
    "pl.ylim([0, 1])\n",
    "pl.plot(fpr, tpr, label='ROC for kNN Norm, roc_auc = %0.2f' % roc_auc)\n",
    "pl.plot(precision, recall, label = 'Precision/Recall for kNN')\n",
    "pl.plot([0, 1], [0, 1], 'k--')\n",
    "pl.xlabel('False Positive Rate')\n",
    "pl.ylabel('True Positive Rate')\n",
    "pl.title('Receiver operating characteristic kNN')\n",
    "pl.legend(loc=\"lower right\")"
   ]
  },
  {
   "cell_type": "code",
   "execution_count": 12,
   "metadata": {
    "collapsed": false
   },
   "outputs": [
    {
     "data": {
      "text/plain": [
       "<matplotlib.legend.Legend at 0x18fe4e10>"
      ]
     },
     "execution_count": 12,
     "metadata": {},
     "output_type": "execute_result"
    },
    {
     "data": {
      "image/png": "[encoded data removed]",
      "text/plain": [
       "<matplotlib.figure.Figure at 0xb7d37b8>"
      ]
     },
     "metadata": {},
     "output_type": "display_data"
    }
   ],
   "source": [
    "from sklearn.cross_validation import train_test_split\n",
    "trainX, testX, trainY, testY = train_test_split(X, y, test_size=0.33, random_state=0)\n",
    "\n",
    "from sklearn.dummy import DummyClassifier\n",
    "dclf = DummyClassifier().fit(trainX, trainY)\n",
    "y_pred = dclf.predict(testX)\n",
    "\n",
    "probas_dclf = dclf.predict_proba(testX)\n",
    "fpr, tpr, thresholds = roc_curve(testY, probas_dclf[:, 1])\n",
    "roc_auc = auc(fpr, tpr)\n",
    "precision, recall, thresholds = precision_recall_curve(testY, probas_dclf[:, 1])\n",
    "#pr_auc = auc(precision, recall)\n",
    "\n",
    "pl.clf()\n",
    "pl.xlim([0, 1])\n",
    "pl.ylim([0, 1])\n",
    "pl.plot(fpr, tpr, label='ROC for dummym roc auc = %0.2f' % roc_auc)\n",
    "pl.plot(precision, recall, label = 'Precision/Recall for dummy')#, pr auc = %0.2f' % pr_auc)\n",
    "pl.plot([0, 1], [0, 1], 'k--')\n",
    "pl.xlabel('False Positive Rate')\n",
    "pl.ylabel('True Positive Rate')\n",
    "pl.title('Receiver operating characteristic dummy')\n",
    "pl.legend(loc=\"lower right\")"
   ]
  },
  {
   "cell_type": "markdown",
   "metadata": {},
   "source": [
    "Ближайший к 0 auc-roc у константного классификатора."
   ]
  },
  {
   "cell_type": "markdown",
   "metadata": {},
   "source": [
    "# Задание 4.\n",
    "Выбираю kFold. k = 5\n"
   ]
  },
  {
   "cell_type": "code",
   "execution_count": 18,
   "metadata": {
    "collapsed": false
   },
   "outputs": [
    {
     "name": "stdout",
     "output_type": "stream",
     "text": [
      "# Tuning hyper-parameters for roc_auc\n",
      "()\n",
      "Best parameters set found on development set:\n",
      "()\n",
      "DecisionTreeClassifier(class_weight=None, criterion='gini', max_depth=6,\n",
      "            max_features=None, max_leaf_nodes=None, min_samples_leaf=1,\n",
      "            min_samples_split=2, min_weight_fraction_leaf=0.0,\n",
      "            random_state=None, splitter='best')\n",
      "()\n",
      "Grid scores on development set:\n",
      "()\n",
      "0.876 (+/-0.005) for {'max_features': 1}\n",
      "0.877 (+/-0.006) for {'max_features': 2}\n",
      "0.879 (+/-0.007) for {'max_features': 4}\n",
      "0.889 (+/-0.005) for {'max_features': 8}\n",
      "0.794 (+/-0.009) for {'max_depth': 1}\n",
      "0.878 (+/-0.007) for {'max_depth': 2}\n",
      "0.904 (+/-0.005) for {'max_depth': 3}\n",
      "0.923 (+/-0.004) for {'max_depth': 4}\n",
      "0.928 (+/-0.005) for {'max_depth': 5}\n",
      "0.929 (+/-0.002) for {'max_depth': 6}\n",
      "0.916 (+/-0.005) for {'max_depth': 7}\n",
      "0.909 (+/-0.005) for {'max_depth': 8}\n",
      "0.897 (+/-0.006) for {'max_depth': 9}\n",
      "0.889 (+/-0.009) for {'max_depth': 10}\n",
      "()\n",
      "Detailed classification report:\n",
      "()\n",
      "The model is trained on the full development set.\n",
      "The scores are computed on the full evaluation set.\n",
      "()\n",
      "             precision    recall  f1-score   support\n",
      "\n",
      "          0       0.92      0.94      0.93       904\n",
      "          1       0.91      0.87      0.89       615\n",
      "\n",
      "avg / total       0.91      0.91      0.91      1519\n",
      "\n",
      "()\n"
     ]
    }
   ],
   "source": [
    "from sklearn import cross_validation\n",
    "import sklearn.tree\n",
    "from sklearn import svm, grid_search, datasets\n",
    "from sklearn.grid_search import GridSearchCV\n",
    "from sklearn.metrics import classification_report\n",
    "\n",
    "trainX, testX, trainY, testY = train_test_split(X, y, test_size=0.33, random_state=0)\n",
    "loo = cross_validation.LeaveOneOut(len(trainY))\n",
    "\n",
    "tuned_parameters = [{'max_features': [1,2,4,8] },{'max_depth': [1,2,3,4,5,6,7,8,9,10]}]\n",
    "\n",
    "scores = ['roc_auc']\n",
    "\n",
    "for score in scores:\n",
    "    print(\"# Tuning hyper-parameters for %s\" % score)\n",
    "    print()\n",
    "\n",
    "    clf = GridSearchCV(DecisionTreeClassifier(), tuned_parameters, cv=5, scoring=score)\n",
    "    clf.fit(trainX, trainY)\n",
    "\n",
    "    print(\"Best parameters set found on development set:\")\n",
    "    print()\n",
    "    print(clf.best_estimator_)\n",
    "    print()\n",
    "    print(\"Grid scores on development set:\")\n",
    "    print()\n",
    "    for params, mean_score, scores in clf.grid_scores_:\n",
    "        print(\"%0.3f (+/-%0.03f) for %r\"\n",
    "              % (mean_score, scores.std() / 2, params))\n",
    "    print()\n",
    "\n",
    "    print(\"Detailed classification report:\")\n",
    "    print()\n",
    "    print(\"The model is trained on the full development set.\")\n",
    "    print(\"The scores are computed on the full evaluation set.\")\n",
    "    print()\n",
    "    y_true, y_pred = testY, clf.predict(testX)\n",
    "    print(classification_report(y_true, y_pred))\n",
    "    print()"
   ]
  },
  {
   "cell_type": "markdown",
   "metadata": {},
   "source": [
    "Результаты получились примерно такими же."
   ]
  },
  {
   "cell_type": "code",
   "execution_count": 19,
   "metadata": {
    "collapsed": false
   },
   "outputs": [
    {
     "name": "stdout",
     "output_type": "stream",
     "text": [
      "# Tuning hyper-parameters for roc_auc\n",
      "()\n",
      "Best parameters set found on development set:\n",
      "()\n",
      "KNeighborsClassifier(algorithm='auto', leaf_size=30, metric='minkowski',\n",
      "           metric_params=None, n_neighbors=8, p=2, weights='uniform')\n",
      "()\n",
      "Grid scores on development set:\n",
      "()\n",
      "0.789 (+/-0.003) for {'n_neighbors': 1}\n",
      "0.824 (+/-0.004) for {'n_neighbors': 2}\n",
      "0.847 (+/-0.003) for {'n_neighbors': 4}\n",
      "0.850 (+/-0.005) for {'n_neighbors': 8}\n",
      "0.848 (+/-0.006) for {'n_neighbors': 10}\n",
      "0.846 (+/-0.006) for {'n_neighbors': 12}\n",
      "0.842 (+/-0.008) for {'n_neighbors': 16}\n",
      "0.826 (+/-0.009) for {'n_neighbors': 32}\n",
      "0.846 (+/-0.004) for {'algorithm': 'auto'}\n",
      "0.846 (+/-0.004) for {'algorithm': 'ball_tree'}\n",
      "0.846 (+/-0.004) for {'algorithm': 'kd_tree'}\n",
      "0.846 (+/-0.004) for {'algorithm': 'brute'}\n",
      "()\n",
      "Detailed classification report:\n",
      "()\n",
      "The model is trained on the full development set.\n",
      "The scores are computed on the full evaluation set.\n",
      "()\n",
      "             precision    recall  f1-score   support\n",
      "\n",
      "          0       0.77      0.88      0.82       904\n",
      "          1       0.78      0.61      0.69       615\n",
      "\n",
      "avg / total       0.77      0.77      0.77      1519\n",
      "\n",
      "()\n"
     ]
    }
   ],
   "source": [
    "from sklearn import cross_validation\n",
    "import sklearn.tree\n",
    "from sklearn.neighbors import KNeighborsClassifier\n",
    "\n",
    "trainX, testX, trainY, testY = train_test_split(X, y, test_size=0.33, random_state=0)\n",
    "\n",
    "tuned_parameters = [{'n_neighbors': [1,2,4,8,10,12,16,32] },{'algorithm': [ 'auto','ball_tree', 'kd_tree', 'brute']}]\n",
    "\n",
    "scores = ['roc_auc']\n",
    "\n",
    "for score in scores:\n",
    "    print(\"# Tuning hyper-parameters for %s\" % score)\n",
    "    print()\n",
    "\n",
    "    clf = GridSearchCV(KNeighborsClassifier(), tuned_parameters, cv=5, scoring=score)\n",
    "    clf.fit(trainX, trainY)\n",
    "\n",
    "    print(\"Best parameters set found on development set:\")\n",
    "    print()\n",
    "    print(clf.best_estimator_)\n",
    "    print()\n",
    "    print(\"Grid scores on development set:\")\n",
    "    print()\n",
    "    for params, mean_score, scores in clf.grid_scores_:\n",
    "        print(\"%0.3f (+/-%0.03f) for %r\"\n",
    "              % (mean_score, scores.std() / 2, params))\n",
    "    print()\n",
    "\n",
    "    print(\"Detailed classification report:\")\n",
    "    print()\n",
    "    print(\"The model is trained on the full development set.\")\n",
    "    print(\"The scores are computed on the full evaluation set.\")\n",
    "    print()\n",
    "    y_true, y_pred = testY, clf.predict(testX)\n",
    "    print(classification_report(y_true, y_pred))\n",
    "    print()"
   ]
  }
 ],
 "metadata": {
  "kernelspec": {
   "display_name": "Python 2",
   "language": "python",
   "name": "python2"
  },
  "language_info": {
   "codemirror_mode": {
    "name": "ipython",
    "version": 2
   },
   "file_extension": ".py",
   "mimetype": "text/x-python",
   "name": "python",
   "nbconvert_exporter": "python",
   "pygments_lexer": "ipython2",
   "version": "2.7.10"
  }
 },
 "nbformat": 4,
 "nbformat_minor": 0
}
